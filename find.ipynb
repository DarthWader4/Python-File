{
 "metadata": {
  "language_info": {
   "codemirror_mode": {
    "name": "ipython",
    "version": 3
   },
   "file_extension": ".py",
   "mimetype": "text/x-python",
   "name": "python",
   "nbconvert_exporter": "python",
   "pygments_lexer": "ipython3",
   "version": "3.9.5"
  },
  "orig_nbformat": 2,
  "kernelspec": {
   "name": "python395jvsc74a57bd007edb7e7d0660e2311268acf31f4ba32341e08f0f9d7eea147a5ab291842730e",
   "display_name": "Python 3.9.5 64-bit"
  },
  "metadata": {
   "interpreter": {
    "hash": "07edb7e7d0660e2311268acf31f4ba32341e08f0f9d7eea147a5ab291842730e"
   }
  }
 },
 "nbformat": 4,
 "nbformat_minor": 2,
 "cells": [
  {
   "cell_type": "code",
   "execution_count": 11,
   "metadata": {},
   "outputs": [],
   "source": [
    "# find +ve or -ve"
   ]
  },
  {
   "cell_type": "code",
   "execution_count": 12,
   "metadata": {},
   "outputs": [
    {
     "output_type": "stream",
     "name": "stdout",
     "text": [
      "5 positive number\n"
     ]
    }
   ],
   "source": [
    "a = 5\n",
    "if a>0:\n",
    "   print(a,\"positive number\")\n",
    "elif a<0:\n",
    "   print(a,\"negative number\")\n",
    "else:\n",
    "   print(\"The no is neither a positive no nor a negative no\")\n",
    "\n"
   ]
  },
  {
   "cell_type": "code",
   "execution_count": 13,
   "metadata": {},
   "outputs": [],
   "source": [
    "#give 2 no. find greater or smallest of two"
   ]
  },
  {
   "cell_type": "code",
   "execution_count": 14,
   "metadata": {},
   "outputs": [
    {
     "output_type": "stream",
     "name": "stdout",
     "text": [
      "7 is smaller than 10\n"
     ]
    }
   ],
   "source": [
    "num1=7\n",
    "num2=10\n",
    "if num1>num2:\n",
    "    print(num1,\"is greater than\",num2)\n",
    "elif num1<num2:\n",
    "    print(num1,\"is smaller than\",num2)\n",
    "else:\n",
    "    print(num1,\"is equal to\",num2)"
   ]
  },
  {
   "cell_type": "code",
   "execution_count": 15,
   "metadata": {},
   "outputs": [],
   "source": [
    "# no. is even or odd"
   ]
  },
  {
   "cell_type": "code",
   "execution_count": 16,
   "metadata": {},
   "outputs": [
    {
     "output_type": "stream",
     "name": "stdout",
     "text": [
      "4 is even number\n"
     ]
    }
   ],
   "source": [
    "num=4\n",
    "if num%2==0:\n",
    "    print(num,\"is even number\")\n",
    "else:\n",
    "    print(num,\"is odd number\")"
   ]
  },
  {
   "cell_type": "code",
   "execution_count": 17,
   "metadata": {},
   "outputs": [],
   "source": [
    "#find greatest of all numbers"
   ]
  },
  {
   "cell_type": "code",
   "execution_count": 18,
   "metadata": {},
   "outputs": [
    {
     "output_type": "stream",
     "name": "stdout",
     "text": [
      "10 is greatest\n"
     ]
    }
   ],
   "source": [
    "num1=8\n",
    "num2=5\n",
    "num3=10\n",
    "if(num1>num2 and num1>num3):\n",
    "    print(num1,\"is greatest\")\n",
    "elif(num2>num1 and num2>num3):\n",
    "    print(num2,\"is greatest\")\n",
    "else:\n",
    "    print(num3,\"is greatest\")"
   ]
  },
  {
   "cell_type": "code",
   "execution_count": null,
   "metadata": {},
   "outputs": [],
   "source": []
  }
 ]
}