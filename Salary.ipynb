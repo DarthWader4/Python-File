{
 "cells": [
  {
   "cell_type": "code",
   "execution_count": 3,
   "id": "a604dd8e",
   "metadata": {},
   "outputs": [
    {
     "name": "stdout",
     "output_type": "stream",
     "text": [
      "Tax Paid= 187500.0\n",
      "Salary after tax= 1062500.0\n"
     ]
    }
   ],
   "source": [
    "sal=1250000\n",
    "tax=0\n",
    "if(sal<=300000):\n",
    "    print(\"No Tax\")\n",
    "    print(\"Salary=\",sal)\n",
    "elif(sal>300000 and sal<500000):\n",
    "    tax=sal*(5/100)\n",
    "    sal=sal-tax\n",
    "    print(\"Tax Paid=\",tax)\n",
    "    print(\"Salary after tax=\",sal)\n",
    "elif(sal>500000 and sal<1000000):\n",
    "    tax=sal*(10/100)\n",
    "    sal=sal-tax\n",
    "    print(\"Tax Paid=\",tax)\n",
    "    print(\"Salary after tax=\",sal)\n",
    "elif(sal>1000000 and sal<1500000):\n",
    "    tax=sal*(15/100)\n",
    "    sal=sal-tax\n",
    "    print(\"Tax Paid=\",tax)\n",
    "    print(\"Salary after tax=\",sal)\n",
    "elif(sal>1500000 and sal<2000000):\n",
    "    tax=sal*(20/100)\n",
    "    sal=sal-tax\n",
    "    print(\"Tax Paid=\",tax)\n",
    "    print(\"Salary after tax=\",sal)\n",
    "else:\n",
    "    tax=sal*(25/100)\n",
    "    sal=sal-tax\n",
    "    print(\"Tax Paid=\",tax)\n",
    "    print(\"Salary after tax=\",sal)"
   ]
  },
  {
   "cell_type": "code",
   "execution_count": null,
   "id": "2aa927d4",
   "metadata": {},
   "outputs": [],
   "source": []
  }
 ],
 "metadata": {
  "kernelspec": {
   "display_name": "Python 3",
   "language": "python",
   "name": "python3"
  },
  "language_info": {
   "codemirror_mode": {
    "name": "ipython",
    "version": 3
   },
   "file_extension": ".py",
   "mimetype": "text/x-python",
   "name": "python",
   "nbconvert_exporter": "python",
   "pygments_lexer": "ipython3",
   "version": "3.8.8"
  }
 },
 "nbformat": 4,
 "nbformat_minor": 5
}
