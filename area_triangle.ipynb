{
 "metadata": {
  "language_info": {
   "codemirror_mode": {
    "name": "ipython",
    "version": 3
   },
   "file_extension": ".py",
   "mimetype": "text/x-python",
   "name": "python",
   "nbconvert_exporter": "python",
   "pygments_lexer": "ipython3",
   "version": "3.9.5"
  },
  "orig_nbformat": 2,
  "kernelspec": {
   "name": "python395jvsc74a57bd007edb7e7d0660e2311268acf31f4ba32341e08f0f9d7eea147a5ab291842730e",
   "display_name": "Python 3.9.5 64-bit"
  },
  "metadata": {
   "interpreter": {
    "hash": "07edb7e7d0660e2311268acf31f4ba32341e08f0f9d7eea147a5ab291842730e"
   }
  }
 },
 "nbformat": 4,
 "nbformat_minor": 2,
 "cells": [
  {
   "cell_type": "code",
   "execution_count": 1,
   "metadata": {},
   "outputs": [],
   "source": [
    "s1,s2,s3=10,5.6,8\n",
    "s=(s1+s2+s3)/2;\n",
    "area=(s*(s-s1)*(s-s2)*(s-s3))**0.5"
   ]
  },
  {
   "cell_type": "code",
   "execution_count": 2,
   "metadata": {},
   "outputs": [
    {
     "output_type": "execute_result",
     "data": {
      "text/plain": [
       "22.369944121521637"
      ]
     },
     "metadata": {},
     "execution_count": 2
    }
   ],
   "source": [
    "area"
   ]
  }
 ]
}