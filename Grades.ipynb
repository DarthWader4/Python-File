{
 "cells": [
  {
   "cell_type": "code",
   "execution_count": 2,
   "id": "cdff8898",
   "metadata": {},
   "outputs": [
    {
     "name": "stdout",
     "output_type": "stream",
     "text": [
      "Marks= 35\n",
      "Grade=G\n"
     ]
    }
   ],
   "source": [
    "marks=35\n",
    "if(marks>80):\n",
    "    print(\"Marks=\",marks)\n",
    "    print(\"Grade=A\")\n",
    "elif(marks>70 and marks<=80):\n",
    "    print(\"Marks=\",marks)\n",
    "    print(\"Grade=B\")\n",
    "elif(marks>60 and marks<=70):\n",
    "    print(\"Marks=\",marks)\n",
    "    print(\"Grade=C\")\n",
    "elif(marks>50 and marks<=60):\n",
    "    print(\"Marks=\",marks)\n",
    "    print(\"Grade=E\")\n",
    "elif(marks>40 and marks<=50):\n",
    "    print(\"Marks=\",marks)\n",
    "    print(\"Grade=F\")\n",
    "else:\n",
    "    print(\"Marks=\",marks)\n",
    "    print(\"Grade=G\")"
   ]
  },
  {
   "cell_type": "code",
   "execution_count": null,
   "id": "4b7518d0",
   "metadata": {},
   "outputs": [],
   "source": []
  }
 ],
 "metadata": {
  "kernelspec": {
   "display_name": "Python 3",
   "language": "python",
   "name": "python3"
  },
  "language_info": {
   "codemirror_mode": {
    "name": "ipython",
    "version": 3
   },
   "file_extension": ".py",
   "mimetype": "text/x-python",
   "name": "python",
   "nbconvert_exporter": "python",
   "pygments_lexer": "ipython3",
   "version": "3.8.8"
  }
 },
 "nbformat": 4,
 "nbformat_minor": 5
}
